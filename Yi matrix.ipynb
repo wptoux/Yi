{
 "cells": [
  {
   "cell_type": "code",
   "execution_count": 3,
   "metadata": {
    "ExecuteTime": {
     "end_time": "2020-05-14T02:39:03.999350Z",
     "start_time": "2020-05-14T02:39:03.995354Z"
    }
   },
   "outputs": [],
   "source": [
    "import re\n",
    "import pandas as pd\n",
    "import numpy as np"
   ]
  },
  {
   "cell_type": "code",
   "execution_count": 4,
   "metadata": {
    "ExecuteTime": {
     "end_time": "2020-05-14T02:39:45.635315Z",
     "start_time": "2020-05-14T02:39:45.625319Z"
    }
   },
   "outputs": [
    {
     "data": {
      "text/plain": [
       "{'乾': '☰',\n",
       " '坎': '☵',\n",
       " '艮': '☶',\n",
       " '震': '☳',\n",
       " '巽': '☴',\n",
       " '离': '☲',\n",
       " '坤': '☷',\n",
       " '兑': '☱'}"
      ]
     },
     "execution_count": 4,
     "metadata": {},
     "output_type": "execute_result"
    }
   ],
   "source": [
    "hua = {}\n",
    "\n",
    "for x in '乾（☰）、坎（☵）、艮（☶）、震（☳）、巽（☴）、离（☲）、坤（☷）、兑（☱）'.split('、'):\n",
    "    hua[x[0]] = x[2]\n",
    "\n",
    "hua"
   ]
  },
  {
   "cell_type": "code",
   "execution_count": 2,
   "metadata": {
    "ExecuteTime": {
     "end_time": "2020-05-14T02:37:18.734194Z",
     "start_time": "2020-05-14T02:37:18.717204Z"
    }
   },
   "outputs": [
    {
     "data": {
      "text/plain": [
       "['乾', '兑', '离', '震', '巽', '坎', '艮', '坤']"
      ]
     },
     "execution_count": 2,
     "metadata": {},
     "output_type": "execute_result"
    }
   ],
   "source": [
    "gua_xiantian = [x[0] for x in '乾一，兑二，离三，震四，巽五，坎六，艮七，坤八'.split('，')]\n",
    "gua_xiantian"
   ]
  },
  {
   "cell_type": "code",
   "execution_count": 36,
   "metadata": {
    "ExecuteTime": {
     "end_time": "2020-05-14T03:16:52.293827Z",
     "start_time": "2020-05-14T03:16:52.286828Z"
    }
   },
   "outputs": [
    {
     "data": {
      "text/plain": [
       "'乾兑离震巽坎艮坤'"
      ]
     },
     "execution_count": 36,
     "metadata": {},
     "output_type": "execute_result"
    }
   ],
   "source": [
    "''.join(gua_xiantian)"
   ]
  },
  {
   "cell_type": "code",
   "execution_count": 5,
   "metadata": {
    "ExecuteTime": {
     "end_time": "2020-05-14T02:41:35.162957Z",
     "start_time": "2020-05-14T02:41:35.152964Z"
    }
   },
   "outputs": [
    {
     "data": {
      "text/plain": [
       "[['乾乾', '兑乾', '离乾', '震乾', '巽乾', '坎乾', '艮乾', '坤乾'],\n",
       " ['乾兑', '兑兑', '离兑', '震兑', '巽兑', '坎兑', '艮兑', '坤兑'],\n",
       " ['乾离', '兑离', '离离', '震离', '巽离', '坎离', '艮离', '坤离'],\n",
       " ['乾震', '兑震', '离震', '震震', '巽震', '坎震', '艮震', '坤震'],\n",
       " ['乾巽', '兑巽', '离巽', '震巽', '巽巽', '坎巽', '艮巽', '坤巽'],\n",
       " ['乾坎', '兑坎', '离坎', '震坎', '巽坎', '坎坎', '艮坎', '坤坎'],\n",
       " ['乾艮', '兑艮', '离艮', '震艮', '巽艮', '坎艮', '艮艮', '坤艮'],\n",
       " ['乾坤', '兑坤', '离坤', '震坤', '巽坤', '坎坤', '艮坤', '坤坤']]"
      ]
     },
     "execution_count": 5,
     "metadata": {},
     "output_type": "execute_result"
    }
   ],
   "source": [
    "yi = [[x + y for x in gua_xiantian] for y in gua_xiantian]\n",
    "yi"
   ]
  },
  {
   "cell_type": "code",
   "execution_count": 32,
   "metadata": {
    "ExecuteTime": {
     "end_time": "2020-05-14T03:00:49.869569Z",
     "start_time": "2020-05-14T03:00:49.847566Z"
    }
   },
   "outputs": [
    {
     "data": {
      "text/plain": [
       "[['☰☰', '☱☰', '☲☰', '☳☰', '☴☰', '☵☰', '☶☰', '☷☰'],\n",
       " ['☰☱', '☱☱', '☲☱', '☳☱', '☴☱', '☵☱', '☶☱', '☷☱'],\n",
       " ['☰☲', '☱☲', '☲☲', '☳☲', '☴☲', '☵☲', '☶☲', '☷☲'],\n",
       " ['☰☳', '☱☳', '☲☳', '☳☳', '☴☳', '☵☳', '☶☳', '☷☳'],\n",
       " ['☰☴', '☱☴', '☲☴', '☳☴', '☴☴', '☵☴', '☶☴', '☷☴'],\n",
       " ['☰☵', '☱☵', '☲☵', '☳☵', '☴☵', '☵☵', '☶☵', '☷☵'],\n",
       " ['☰☶', '☱☶', '☲☶', '☳☶', '☴☶', '☵☶', '☶☶', '☷☶'],\n",
       " ['☰☷', '☱☷', '☲☷', '☳☷', '☴☷', '☵☷', '☶☷', '☷☷']]"
      ]
     },
     "execution_count": 32,
     "metadata": {},
     "output_type": "execute_result"
    }
   ],
   "source": [
    "yi_hua = [[hua[x] + hua[y] for x in gua_xiantian] for y in gua_xiantian]\n",
    "yi_hua"
   ]
  },
  {
   "cell_type": "code",
   "execution_count": 35,
   "metadata": {
    "ExecuteTime": {
     "end_time": "2020-05-14T03:04:14.147916Z",
     "start_time": "2020-05-14T03:04:14.118919Z"
    }
   },
   "outputs": [
    {
     "data": {
      "text/html": [
       "<div>\n",
       "<style scoped>\n",
       "    .dataframe tbody tr th:only-of-type {\n",
       "        vertical-align: middle;\n",
       "    }\n",
       "\n",
       "    .dataframe tbody tr th {\n",
       "        vertical-align: top;\n",
       "    }\n",
       "\n",
       "    .dataframe thead th {\n",
       "        text-align: right;\n",
       "    }\n",
       "</style>\n",
       "<table border=\"1\" class=\"dataframe\">\n",
       "  <thead>\n",
       "    <tr style=\"text-align: right;\">\n",
       "      <th></th>\n",
       "      <th>乾☰</th>\n",
       "      <th>兑☱</th>\n",
       "      <th>离☲</th>\n",
       "      <th>震☳</th>\n",
       "      <th>巽☴</th>\n",
       "      <th>坎☵</th>\n",
       "      <th>艮☶</th>\n",
       "      <th>坤☷</th>\n",
       "    </tr>\n",
       "  </thead>\n",
       "  <tbody>\n",
       "    <tr>\n",
       "      <th>乾☰</th>\n",
       "      <td>☰☰</td>\n",
       "      <td>☱☰</td>\n",
       "      <td>☲☰</td>\n",
       "      <td>☳☰</td>\n",
       "      <td>☴☰</td>\n",
       "      <td>☵☰</td>\n",
       "      <td>☶☰</td>\n",
       "      <td>☷☰</td>\n",
       "    </tr>\n",
       "    <tr>\n",
       "      <th>兑☱</th>\n",
       "      <td>☰☱</td>\n",
       "      <td>☱☱</td>\n",
       "      <td>☲☱</td>\n",
       "      <td>☳☱</td>\n",
       "      <td>☴☱</td>\n",
       "      <td>☵☱</td>\n",
       "      <td>☶☱</td>\n",
       "      <td>☷☱</td>\n",
       "    </tr>\n",
       "    <tr>\n",
       "      <th>离☲</th>\n",
       "      <td>☰☲</td>\n",
       "      <td>☱☲</td>\n",
       "      <td>☲☲</td>\n",
       "      <td>☳☲</td>\n",
       "      <td>☴☲</td>\n",
       "      <td>☵☲</td>\n",
       "      <td>☶☲</td>\n",
       "      <td>☷☲</td>\n",
       "    </tr>\n",
       "    <tr>\n",
       "      <th>震☳</th>\n",
       "      <td>☰☳</td>\n",
       "      <td>☱☳</td>\n",
       "      <td>☲☳</td>\n",
       "      <td>☳☳</td>\n",
       "      <td>☴☳</td>\n",
       "      <td>☵☳</td>\n",
       "      <td>☶☳</td>\n",
       "      <td>☷☳</td>\n",
       "    </tr>\n",
       "    <tr>\n",
       "      <th>巽☴</th>\n",
       "      <td>☰☴</td>\n",
       "      <td>☱☴</td>\n",
       "      <td>☲☴</td>\n",
       "      <td>☳☴</td>\n",
       "      <td>☴☴</td>\n",
       "      <td>☵☴</td>\n",
       "      <td>☶☴</td>\n",
       "      <td>☷☴</td>\n",
       "    </tr>\n",
       "    <tr>\n",
       "      <th>坎☵</th>\n",
       "      <td>☰☵</td>\n",
       "      <td>☱☵</td>\n",
       "      <td>☲☵</td>\n",
       "      <td>☳☵</td>\n",
       "      <td>☴☵</td>\n",
       "      <td>☵☵</td>\n",
       "      <td>☶☵</td>\n",
       "      <td>☷☵</td>\n",
       "    </tr>\n",
       "    <tr>\n",
       "      <th>艮☶</th>\n",
       "      <td>☰☶</td>\n",
       "      <td>☱☶</td>\n",
       "      <td>☲☶</td>\n",
       "      <td>☳☶</td>\n",
       "      <td>☴☶</td>\n",
       "      <td>☵☶</td>\n",
       "      <td>☶☶</td>\n",
       "      <td>☷☶</td>\n",
       "    </tr>\n",
       "    <tr>\n",
       "      <th>坤☷</th>\n",
       "      <td>☰☷</td>\n",
       "      <td>☱☷</td>\n",
       "      <td>☲☷</td>\n",
       "      <td>☳☷</td>\n",
       "      <td>☴☷</td>\n",
       "      <td>☵☷</td>\n",
       "      <td>☶☷</td>\n",
       "      <td>☷☷</td>\n",
       "    </tr>\n",
       "  </tbody>\n",
       "</table>\n",
       "</div>"
      ],
      "text/plain": [
       "    乾☰  兑☱  离☲  震☳  巽☴  坎☵  艮☶  坤☷\n",
       "乾☰  ☰☰  ☱☰  ☲☰  ☳☰  ☴☰  ☵☰  ☶☰  ☷☰\n",
       "兑☱  ☰☱  ☱☱  ☲☱  ☳☱  ☴☱  ☵☱  ☶☱  ☷☱\n",
       "离☲  ☰☲  ☱☲  ☲☲  ☳☲  ☴☲  ☵☲  ☶☲  ☷☲\n",
       "震☳  ☰☳  ☱☳  ☲☳  ☳☳  ☴☳  ☵☳  ☶☳  ☷☳\n",
       "巽☴  ☰☴  ☱☴  ☲☴  ☳☴  ☴☴  ☵☴  ☶☴  ☷☴\n",
       "坎☵  ☰☵  ☱☵  ☲☵  ☳☵  ☴☵  ☵☵  ☶☵  ☷☵\n",
       "艮☶  ☰☶  ☱☶  ☲☶  ☳☶  ☴☶  ☵☶  ☶☶  ☷☶\n",
       "坤☷  ☰☷  ☱☷  ☲☷  ☳☷  ☴☷  ☵☷  ☶☷  ☷☷"
      ]
     },
     "execution_count": 35,
     "metadata": {},
     "output_type": "execute_result"
    }
   ],
   "source": [
    "df_yihua = pd.DataFrame(yi_hua)\n",
    "df_yihua.index = [x + hua[x] for x in gua_xiantian]\n",
    "df_yihua.columns = [x + hua[x] for x in gua_xiantian]\n",
    "df_yihua"
   ]
  }
 ],
 "metadata": {
  "kernelspec": {
   "display_name": "Python 3",
   "language": "python",
   "name": "python3"
  },
  "language_info": {
   "codemirror_mode": {
    "name": "ipython",
    "version": 3
   },
   "file_extension": ".py",
   "mimetype": "text/x-python",
   "name": "python",
   "nbconvert_exporter": "python",
   "pygments_lexer": "ipython3",
   "version": "3.7.1"
  },
  "varInspector": {
   "cols": {
    "lenName": 16,
    "lenType": 16,
    "lenVar": 40
   },
   "kernels_config": {
    "python": {
     "delete_cmd_postfix": "",
     "delete_cmd_prefix": "del ",
     "library": "var_list.py",
     "varRefreshCmd": "print(var_dic_list())"
    },
    "r": {
     "delete_cmd_postfix": ") ",
     "delete_cmd_prefix": "rm(",
     "library": "var_list.r",
     "varRefreshCmd": "cat(var_dic_list()) "
    }
   },
   "types_to_exclude": [
    "module",
    "function",
    "builtin_function_or_method",
    "instance",
    "_Feature"
   ],
   "window_display": false
  }
 },
 "nbformat": 4,
 "nbformat_minor": 2
}
